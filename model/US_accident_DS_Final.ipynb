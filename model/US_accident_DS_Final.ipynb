{
 "cells": [
  {
   "cell_type": "markdown",
   "id": "430516e4-7312-4734-9bf0-1401f198e589",
   "metadata": {},
   "source": [
    "# US ACCIDENT SEVERITY PREDICTION MODEL"
   ]
  },
  {
   "cell_type": "code",
   "execution_count": 2,
   "id": "706726cf-bb56-4848-af91-d03bac7dc8fb",
   "metadata": {},
   "outputs": [],
   "source": [
    "import pandas as pd\n",
    "import numpy as np\n",
    "from sklearn.model_selection import train_test_split, RandomizedSearchCV\n",
    "from sklearn.preprocessing import StandardScaler\n",
    "from sklearn.metrics import roc_auc_score, roc_curve, classification_report\n",
    "from imblearn.over_sampling import SMOTE\n",
    "from xgboost import XGBClassifier\n",
    "import matplotlib.pyplot as plt\n",
    "\n",
    "\n",
    "# Load the dataset\n",
    "csv_file_path = \"/Users/arunajithesh/Downloads/US_Accidents_March23.csv\"  # Replace with your dataset path\n",
    "df = pd.read_csv(csv_file_path)\n",
    "\n"
   ]
  },
  {
   "cell_type": "code",
   "execution_count": 3,
   "id": "9a2195b5-7da1-44c2-9024-409ca0a050e3",
   "metadata": {},
   "outputs": [
    {
     "name": "stdout",
     "output_type": "stream",
     "text": [
      "Initial dataset (first 10 rows):\n",
      "     ID   Source  Severity           Start_Time             End_Time  \\\n",
      "0   A-1  Source2         3  2016-02-08 05:46:00  2016-02-08 11:00:00   \n",
      "1   A-2  Source2         2  2016-02-08 06:07:59  2016-02-08 06:37:59   \n",
      "2   A-3  Source2         2  2016-02-08 06:49:27  2016-02-08 07:19:27   \n",
      "3   A-4  Source2         3  2016-02-08 07:23:34  2016-02-08 07:53:34   \n",
      "4   A-5  Source2         2  2016-02-08 07:39:07  2016-02-08 08:09:07   \n",
      "5   A-6  Source2         3  2016-02-08 07:44:26  2016-02-08 08:14:26   \n",
      "6   A-7  Source2         2  2016-02-08 07:59:35  2016-02-08 08:29:35   \n",
      "7   A-8  Source2         3  2016-02-08 07:59:58  2016-02-08 08:29:58   \n",
      "8   A-9  Source2         2  2016-02-08 08:00:40  2016-02-08 08:30:40   \n",
      "9  A-10  Source2         3  2016-02-08 08:10:04  2016-02-08 08:40:04   \n",
      "\n",
      "   Start_Lat  Start_Lng  End_Lat  End_Lng  Distance(mi)  ... Roundabout  \\\n",
      "0  39.865147 -84.058723      NaN      NaN          0.01  ...      False   \n",
      "1  39.928059 -82.831184      NaN      NaN          0.01  ...      False   \n",
      "2  39.063148 -84.032608      NaN      NaN          0.01  ...      False   \n",
      "3  39.747753 -84.205582      NaN      NaN          0.01  ...      False   \n",
      "4  39.627781 -84.188354      NaN      NaN          0.01  ...      False   \n",
      "5  40.100590 -82.925194      NaN      NaN          0.01  ...      False   \n",
      "6  39.758274 -84.230507      NaN      NaN          0.00  ...      False   \n",
      "7  39.770382 -84.194901      NaN      NaN          0.01  ...      False   \n",
      "8  39.778061 -84.172005      NaN      NaN          0.00  ...      False   \n",
      "9  40.100590 -82.925194      NaN      NaN          0.01  ...      False   \n",
      "\n",
      "  Station   Stop Traffic_Calming Traffic_Signal Turning_Loop Sunrise_Sunset  \\\n",
      "0   False  False           False          False        False          Night   \n",
      "1   False  False           False          False        False          Night   \n",
      "2   False  False           False           True        False          Night   \n",
      "3   False  False           False          False        False          Night   \n",
      "4   False  False           False           True        False            Day   \n",
      "5   False  False           False          False        False            Day   \n",
      "6   False  False           False          False        False            Day   \n",
      "7   False  False           False          False        False            Day   \n",
      "8   False  False           False          False        False            Day   \n",
      "9   False  False           False          False        False            Day   \n",
      "\n",
      "  Civil_Twilight Nautical_Twilight Astronomical_Twilight  \n",
      "0          Night             Night                 Night  \n",
      "1          Night             Night                   Day  \n",
      "2          Night               Day                   Day  \n",
      "3            Day               Day                   Day  \n",
      "4            Day               Day                   Day  \n",
      "5            Day               Day                   Day  \n",
      "6            Day               Day                   Day  \n",
      "7            Day               Day                   Day  \n",
      "8            Day               Day                   Day  \n",
      "9            Day               Day                   Day  \n",
      "\n",
      "[10 rows x 46 columns]\n"
     ]
    }
   ],
   "source": [
    "print(\"Initial dataset (first 10 rows):\")\n",
    "print(df.head(10))"
   ]
  },
  {
   "cell_type": "code",
   "execution_count": 4,
   "id": "0f955225-fa74-4314-a6e4-42522606ab22",
   "metadata": {
    "scrolled": true
   },
   "outputs": [
    {
     "name": "stdout",
     "output_type": "stream",
     "text": [
      "\n",
      "Dataset after adding SeverityBinary column (first 10 rows):\n",
      "     ID   Source  Severity           Start_Time             End_Time  \\\n",
      "0   A-1  Source2         3  2016-02-08 05:46:00  2016-02-08 11:00:00   \n",
      "1   A-2  Source2         2  2016-02-08 06:07:59  2016-02-08 06:37:59   \n",
      "2   A-3  Source2         2  2016-02-08 06:49:27  2016-02-08 07:19:27   \n",
      "3   A-4  Source2         3  2016-02-08 07:23:34  2016-02-08 07:53:34   \n",
      "4   A-5  Source2         2  2016-02-08 07:39:07  2016-02-08 08:09:07   \n",
      "5   A-6  Source2         3  2016-02-08 07:44:26  2016-02-08 08:14:26   \n",
      "6   A-7  Source2         2  2016-02-08 07:59:35  2016-02-08 08:29:35   \n",
      "7   A-8  Source2         3  2016-02-08 07:59:58  2016-02-08 08:29:58   \n",
      "8   A-9  Source2         2  2016-02-08 08:00:40  2016-02-08 08:30:40   \n",
      "9  A-10  Source2         3  2016-02-08 08:10:04  2016-02-08 08:40:04   \n",
      "\n",
      "   Start_Lat  Start_Lng  End_Lat  End_Lng  Distance(mi)  ... Station   Stop  \\\n",
      "0  39.865147 -84.058723      NaN      NaN          0.01  ...   False  False   \n",
      "1  39.928059 -82.831184      NaN      NaN          0.01  ...   False  False   \n",
      "2  39.063148 -84.032608      NaN      NaN          0.01  ...   False  False   \n",
      "3  39.747753 -84.205582      NaN      NaN          0.01  ...   False  False   \n",
      "4  39.627781 -84.188354      NaN      NaN          0.01  ...   False  False   \n",
      "5  40.100590 -82.925194      NaN      NaN          0.01  ...   False  False   \n",
      "6  39.758274 -84.230507      NaN      NaN          0.00  ...   False  False   \n",
      "7  39.770382 -84.194901      NaN      NaN          0.01  ...   False  False   \n",
      "8  39.778061 -84.172005      NaN      NaN          0.00  ...   False  False   \n",
      "9  40.100590 -82.925194      NaN      NaN          0.01  ...   False  False   \n",
      "\n",
      "  Traffic_Calming Traffic_Signal Turning_Loop Sunrise_Sunset Civil_Twilight  \\\n",
      "0           False          False        False          Night          Night   \n",
      "1           False          False        False          Night          Night   \n",
      "2           False           True        False          Night          Night   \n",
      "3           False          False        False          Night            Day   \n",
      "4           False           True        False            Day            Day   \n",
      "5           False          False        False            Day            Day   \n",
      "6           False          False        False            Day            Day   \n",
      "7           False          False        False            Day            Day   \n",
      "8           False          False        False            Day            Day   \n",
      "9           False          False        False            Day            Day   \n",
      "\n",
      "  Nautical_Twilight Astronomical_Twilight SeverityBinary  \n",
      "0             Night                 Night              1  \n",
      "1             Night                   Day              0  \n",
      "2               Day                   Day              0  \n",
      "3               Day                   Day              1  \n",
      "4               Day                   Day              0  \n",
      "5               Day                   Day              1  \n",
      "6               Day                   Day              0  \n",
      "7               Day                   Day              1  \n",
      "8               Day                   Day              0  \n",
      "9               Day                   Day              1  \n",
      "\n",
      "[10 rows x 47 columns]\n"
     ]
    }
   ],
   "source": [
    "# Simplify the Severity column to binary classification\n",
    "df['SeverityBinary'] = df['Severity'].apply(lambda x: 0 if x in [1, 2] else 1)\n",
    "print(\"\\nDataset after adding SeverityBinary column (first 10 rows):\")\n",
    "print(df.head(10))"
   ]
  },
  {
   "cell_type": "markdown",
   "id": "3fc91784-1ab5-4eb2-9e43-943b14ea1999",
   "metadata": {},
   "source": [
    "The code creates a new column called SeverityBinary to simplify the Severity column into a binary categorization. It designates:\n",
    "\n",
    "0 for lower severity severity levels of 1 or 2.\n",
    "For severity levels 3 or 4, which denote greater severity, use 1.\n",
    "To validate the new SeverityBinary column, the first 10 rows of the revised DataFrame are shown. The dataset is better prepared for binary classification tasks thanks to this simplification, which makes it simpler to determine whether an accident is low severity (0) or high severity (1)."
   ]
  },
  {
   "cell_type": "code",
   "execution_count": 6,
   "id": "301dd231-2dd7-42e6-8c5c-33e4595756e4",
   "metadata": {},
   "outputs": [],
   "source": [
    "# Feature Engineering\n",
    "df['LogDistance'] = np.log1p(df['Distance(mi)'])  # Log transform to handle skewness\n",
    "df['SevereWeather'] = (df['Visibility(mi)'] < 5).astype(int)  # Flag severe weather\n",
    "\n"
   ]
  },
  {
   "cell_type": "markdown",
   "id": "d31edc1f-332c-4479-9321-c0e958ed6a2c",
   "metadata": {},
   "source": [
    "Two new features are created by the code as part of feature engineering to improve the dataset:\n",
    "\n",
    "LogDistance: The Distance(mi) column undergoes a log transformation using np.log1p, which calculates the natural logarithm of (1 + Distance(mi)).\n",
    "This makes the distribution more balanced by lessening the effect of outliers and skewed data.\n",
    "SevereWeather: To detect severe weather, a binary flag is developed.\n",
    "The SevereWeather column is allocated 1 (signaling severe weather) if Visibility(mi) is less than 5 and 0 otherwise."
   ]
  },
  {
   "cell_type": "code",
   "execution_count": 8,
   "id": "1b33aaaf-a5a8-4a6c-a199-4878d3efb982",
   "metadata": {},
   "outputs": [],
   "source": [
    "# Updated Feature Columns\n",
    "feature_columns = [\n",
    "    \"Temperature(F)\", \"Humidity(%)\", \"Pressure(in)\", \"LogDistance\", \n",
    "    \"Wind_Speed(mph)\", \"Precipitation(in)\", \"SevereWeather\"\n",
    "]"
   ]
  },
  {
   "cell_type": "markdown",
   "id": "8bb1bf66-8c56-46cc-b3e0-ad0ef9e24f1b",
   "metadata": {},
   "source": [
    "The set of features that will be utilized to train the machine learning model is specified in the feature_columns list. The chosen features are broken out as follows:\n",
    "\n",
    "Temperature(F): Indicates the temperature at the time of the accident in Fahrenheit.\n",
    "Humidity (%): The proportion of relative humidity.\n",
    "Pressure(in): In inches, the atmospheric pressure.\n",
    "LogDistance: To account for skewness, log the distance in miles (Distance(mi)).\n",
    "The wind speed expressed in miles per hour is called wind_speed(mph).\n",
    "Precipitation(in): The precipitation total expressed in inches.\n",
    "SevereWeather: Based on visibility (Visibility(mi) < 5), this binary flag indicates severe weather conditions.\n",
    "Together, these characteristics successfully predict the severity of accidents by capturing important environmental and distance-related factors."
   ]
  },
  {
   "cell_type": "code",
   "execution_count": 10,
   "id": "d023dbea-5278-4929-bdb9-16a4cfc13b36",
   "metadata": {},
   "outputs": [
    {
     "name": "stdout",
     "output_type": "stream",
     "text": [
      "\n",
      "Dataset after filling missing values (first 10 rows):\n",
      "     ID   Source  Severity           Start_Time             End_Time  \\\n",
      "0   A-1  Source2         3  2016-02-08 05:46:00  2016-02-08 11:00:00   \n",
      "1   A-2  Source2         2  2016-02-08 06:07:59  2016-02-08 06:37:59   \n",
      "2   A-3  Source2         2  2016-02-08 06:49:27  2016-02-08 07:19:27   \n",
      "3   A-4  Source2         3  2016-02-08 07:23:34  2016-02-08 07:53:34   \n",
      "4   A-5  Source2         2  2016-02-08 07:39:07  2016-02-08 08:09:07   \n",
      "5   A-6  Source2         3  2016-02-08 07:44:26  2016-02-08 08:14:26   \n",
      "6   A-7  Source2         2  2016-02-08 07:59:35  2016-02-08 08:29:35   \n",
      "7   A-8  Source2         3  2016-02-08 07:59:58  2016-02-08 08:29:58   \n",
      "8   A-9  Source2         2  2016-02-08 08:00:40  2016-02-08 08:30:40   \n",
      "9  A-10  Source2         3  2016-02-08 08:10:04  2016-02-08 08:40:04   \n",
      "\n",
      "   Start_Lat  Start_Lng  End_Lat  End_Lng  Distance(mi)  ... Traffic_Calming  \\\n",
      "0  39.865147 -84.058723      NaN      NaN          0.01  ...           False   \n",
      "1  39.928059 -82.831184      NaN      NaN          0.01  ...           False   \n",
      "2  39.063148 -84.032608      NaN      NaN          0.01  ...           False   \n",
      "3  39.747753 -84.205582      NaN      NaN          0.01  ...           False   \n",
      "4  39.627781 -84.188354      NaN      NaN          0.01  ...           False   \n",
      "5  40.100590 -82.925194      NaN      NaN          0.01  ...           False   \n",
      "6  39.758274 -84.230507      NaN      NaN          0.00  ...           False   \n",
      "7  39.770382 -84.194901      NaN      NaN          0.01  ...           False   \n",
      "8  39.778061 -84.172005      NaN      NaN          0.00  ...           False   \n",
      "9  40.100590 -82.925194      NaN      NaN          0.01  ...           False   \n",
      "\n",
      "  Traffic_Signal Turning_Loop Sunrise_Sunset Civil_Twilight Nautical_Twilight  \\\n",
      "0          False        False          Night          Night             Night   \n",
      "1          False        False          Night          Night             Night   \n",
      "2           True        False          Night          Night               Day   \n",
      "3          False        False          Night            Day               Day   \n",
      "4           True        False            Day            Day               Day   \n",
      "5          False        False            Day            Day               Day   \n",
      "6          False        False            Day            Day               Day   \n",
      "7          False        False            Day            Day               Day   \n",
      "8          False        False            Day            Day               Day   \n",
      "9          False        False            Day            Day               Day   \n",
      "\n",
      "  Astronomical_Twilight SeverityBinary LogDistance SevereWeather  \n",
      "0                 Night              1     0.00995             0  \n",
      "1                   Day              0     0.00995             0  \n",
      "2                   Day              0     0.00995             0  \n",
      "3                   Day              1     0.00995             0  \n",
      "4                   Day              0     0.00995             0  \n",
      "5                   Day              1     0.00995             0  \n",
      "6                   Day              0     0.00000             0  \n",
      "7                   Day              1     0.00995             0  \n",
      "8                   Day              0     0.00000             0  \n",
      "9                   Day              1     0.00995             1  \n",
      "\n",
      "[10 rows x 49 columns]\n"
     ]
    },
    {
     "name": "stderr",
     "output_type": "stream",
     "text": [
      "/var/folders/by/_k0k6gj51rxfkycxs52zyx6h0000gn/T/ipykernel_37063/1328536602.py:2: FutureWarning: A value is trying to be set on a copy of a DataFrame or Series through chained assignment using an inplace method.\n",
      "The behavior will change in pandas 3.0. This inplace method will never work because the intermediate object on which we are setting values always behaves as a copy.\n",
      "\n",
      "For example, when doing 'df[col].method(value, inplace=True)', try using 'df.method({col: value}, inplace=True)' or df[col] = df[col].method(value) instead, to perform the operation inplace on the original object.\n",
      "\n",
      "\n",
      "  df[column].fillna(df[column].mean(), inplace=True)\n"
     ]
    }
   ],
   "source": [
    "for column in feature_columns:\n",
    "    df[column].fillna(df[column].mean(), inplace=True)\n",
    "print(\"\\nDataset after filling missing values (first 10 rows):\")\n",
    "print(df.head(10))"
   ]
  },
  {
   "cell_type": "code",
   "execution_count": 11,
   "id": "74945d14-0a5f-4042-ad01-a5c519720717",
   "metadata": {},
   "outputs": [],
   "source": [
    "# Separate features and target\n",
    "X = df[feature_columns]\n",
    "y = df['SeverityBinary']"
   ]
  },
  {
   "cell_type": "code",
   "execution_count": 12,
   "id": "0ea9d319-6635-416a-af76-efe06946f1d5",
   "metadata": {},
   "outputs": [
    {
     "name": "stdout",
     "output_type": "stream",
     "text": [
      "\n",
      "Resampled dataset (first 10 rows):\n",
      "   Temperature(F)  Humidity(%)  Pressure(in)  LogDistance  Wind_Speed(mph)  \\\n",
      "0            36.9         91.0         29.68      0.00995          7.68549   \n",
      "1            37.9        100.0         29.65      0.00995          7.68549   \n",
      "2            36.0        100.0         29.67      0.00995          3.50000   \n",
      "3            35.1         96.0         29.64      0.00995          4.60000   \n",
      "4            36.0         89.0         29.65      0.00995          3.50000   \n",
      "5            37.9         97.0         29.63      0.00995          3.50000   \n",
      "6            34.0        100.0         29.66      0.00000          3.50000   \n",
      "7            34.0        100.0         29.66      0.00995          3.50000   \n",
      "8            33.3         99.0         29.67      0.00000          1.20000   \n",
      "9            37.4        100.0         29.62      0.00995          4.60000   \n",
      "\n",
      "   Precipitation(in)  SevereWeather  SeverityBinary  \n",
      "0           0.020000              0               1  \n",
      "1           0.000000              0               0  \n",
      "2           0.008407              0               0  \n",
      "3           0.008407              0               1  \n",
      "4           0.008407              0               0  \n",
      "5           0.030000              0               1  \n",
      "6           0.008407              0               0  \n",
      "7           0.008407              0               1  \n",
      "8           0.008407              0               0  \n",
      "9           0.020000              1               1  \n"
     ]
    }
   ],
   "source": [
    "\n",
    "\n",
    "# Oversample minority class using SMOTE\n",
    "smote = SMOTE(random_state=42)\n",
    "X_resampled, y_resampled = smote.fit_resample(X, y)\n",
    "resampled_df = pd.DataFrame(X_resampled, columns=feature_columns)\n",
    "resampled_df['SeverityBinary'] = y_resampled\n",
    "print(\"\\nResampled dataset (first 10 rows):\")\n",
    "print(resampled_df.head(10))"
   ]
  },
  {
   "cell_type": "markdown",
   "id": "e77422a8-83dd-4121-b9a9-08ae8bb723f5",
   "metadata": {},
   "source": [
    "The code oversamples the minority class in order to rectify the class imbalance using SMOTE (Synthetic Minority Over-sampling Technique). The steps are broken down as follows:\n",
    "\n",
    "SMOTE Initialization: For reproducibility, an SMOTE instance with a fixed random state is created using the formula smote = SMOTE(random_state=42).\n",
    "Resampling: To balance the dataset, create synthetic samples for the minority class using X_resampled, y_resampled = smote.fit_resample(X, y).\n",
    "The characteristics listed in feature_columns are contained in X.\n",
    "The SeverityBinary target labels are contained in y.\n",
    "Create Resampled DataFrame: The resampled features and feature_columns are the column names of a new DataFrame called resampled_df.\n",
    "The DataFrame is updated to include the SeverityBinary column.\n",
    "Show the Initial Ten Rows:\n",
    "To confirm the new balanced dataset, the first ten rows of the resampled dataset are printed."
   ]
  },
  {
   "cell_type": "code",
   "execution_count": 25,
   "id": "ca6e1349-2693-471f-bbdc-33a5ce10c39e",
   "metadata": {},
   "outputs": [
    {
     "name": "stdout",
     "output_type": "stream",
     "text": [
      "\n",
      "Training dataset (first 10 rows):\n",
      "          Temperature(F)  Humidity(%)  Pressure(in)  LogDistance  \\\n",
      "10500178            69.0         90.0     30.065119     0.000000   \n",
      "5236321             44.0         93.0     29.630000     0.044017   \n",
      "12191687            41.0         93.0     29.987900     0.027323   \n",
      "4681398             61.0         54.0     29.790000     0.754242   \n",
      "4706909             88.0         53.0     29.300000     0.407463   \n",
      "7815793             53.0         91.0     29.208738     0.956416   \n",
      "12189382            23.0        100.0     30.171646     0.000000   \n",
      "4790240             65.0         65.0     29.840000     0.365337   \n",
      "10003403            63.0         63.0     29.950000     0.009950   \n",
      "6303214             83.0         65.0     30.070000     0.103459   \n",
      "\n",
      "          Wind_Speed(mph)  Precipitation(in)  SevereWeather  SeverityBinary  \n",
      "10500178          9.00000           0.000000              0               1  \n",
      "5236321           5.00000           0.000000              1               0  \n",
      "12191687          3.50000           0.008407              0               1  \n",
      "4681398           0.00000           0.000000              0               0  \n",
      "4706909           6.00000           0.000000              0               0  \n",
      "7815793           0.00000           0.000000              0               1  \n",
      "12189382          7.68549           0.008407              0               1  \n",
      "4790240           7.00000           0.000000              0               0  \n",
      "10003403          5.80000           0.008407              0               1  \n",
      "6303214          13.00000           0.000000              0               0  \n"
     ]
    }
   ],
   "source": [
    "# Split dataset into training and testing sets\n",
    "X_train, X_test, y_train, y_test = train_test_split(X_resampled, y_resampled, test_size=0.2, random_state=42)\n",
    "train_df = pd.DataFrame(X_train, columns=feature_columns)\n",
    "train_df['SeverityBinary'] = y_train\n",
    "print(\"\\nTraining dataset (first 10 rows):\")\n",
    "print(train_df.head(10))"
   ]
  },
  {
   "cell_type": "markdown",
   "id": "c2223e17-0e81-4634-ba84-6b96ce54ea58",
   "metadata": {},
   "source": [
    "The code splits the resampled dataset into training and testing sets using an 80-20 split, with 80% for training and 20% for testing. The train_test_split function ensures reproducibility with random_state=42. The training features (X_train) and target labels (y_train) are combined into a new DataFrame train_df with the feature_columns and SeverityBinary labels. This step prepares the data for model training while keeping a portion for testing to evaluate the model's performance on unseen data, ensuring better generalization. The first 10 rows of the training dataset are printed for verification."
   ]
  },
  {
   "cell_type": "code",
   "execution_count": 27,
   "id": "d3a767cc-3890-40d3-bf78-fb536b9a5ba0",
   "metadata": {},
   "outputs": [],
   "source": [
    "# Scale Features\n",
    "scaler = StandardScaler()\n",
    "X_train_scaled = scaler.fit_transform(X_train)\n",
    "X_test_scaled = scaler.transform(X_test)"
   ]
  },
  {
   "cell_type": "markdown",
   "id": "ff4a5a91-c89b-4395-b462-ce23c885db22",
   "metadata": {},
   "source": [
    "The code scales the features using StandardScaler to ensure they have a mean of 0 and a standard deviation of 1. The scaler is first fitted to the training data with scaler.fit_transform(X_train), which computes the mean and standard deviation and applies the transformation to the training set. The same scaling parameters are then applied to the test data with scaler.transform(X_test) to maintain consistency. This step helps improve the performance of machine learning models, especially those sensitive to feature magnitudes, such as XGBoost."
   ]
  },
  {
   "cell_type": "code",
   "execution_count": 30,
   "id": "13001c8d-3c00-4161-b07f-ced50913e35e",
   "metadata": {},
   "outputs": [
    {
     "name": "stdout",
     "output_type": "stream",
     "text": [
      "\n",
      "Logistic Regression AUC: 0.599904629614196\n"
     ]
    }
   ],
   "source": [
    "from sklearn.ensemble import RandomForestClassifier\n",
    "from sklearn.linear_model import LogisticRegression\n",
    "# Logistic Regression\n",
    "lr = LogisticRegression(max_iter=100, C=1/0.01, class_weight='balanced')\n",
    "lr.fit(X_train_scaled, y_train)\n",
    "y_pred_proba_lr = lr.predict_proba(X_test_scaled)[:, 1]\n",
    "auc_lr = roc_auc_score(y_test, y_pred_proba_lr)\n",
    "print(f\"\\nLogistic Regression AUC: {auc_lr}\")"
   ]
  },
  {
   "cell_type": "markdown",
   "id": "ad585a6b-640a-4ddc-96ad-414873cc5e6d",
   "metadata": {},
   "source": [
    "The code fits a Logistic Regression model to the training data and evaluates its performance using the ROC AUC score. The Logistic Regression model is initialized with max_iter=100 to set the maximum number of iterations for convergence, C=1/0.01 to specify the regularization strength (inverse of the regularization parameter), and class_weight='balanced' to handle class imbalance by adjusting weights inversely proportional to class frequencies. The model is trained using lr.fit(X_train_scaled, y_train), where X_train_scaled contains the scaled features and y_train contains the target labels. The predicted probabilities for the positive class are obtained using lr.predict_proba(X_test_scaled)[:, 1]. Finally, the AUC (Area Under the ROC Curve) is calculated with roc_auc_score(y_test, y_pred_proba_lr), and the result is printed. The AUC score evaluates how well the model distinguishes between classes, with a higher score indicating better performance."
   ]
  },
  {
   "cell_type": "code",
   "execution_count": 33,
   "id": "6187ba99-8525-4ca2-a22d-8bbe41c2bb9f",
   "metadata": {},
   "outputs": [
    {
     "name": "stdout",
     "output_type": "stream",
     "text": [
      "Random Forest AUC: 0.791755815399184\n"
     ]
    }
   ],
   "source": [
    "rf = RandomForestClassifier(\n",
    "    n_estimators=100,        # Number of trees\n",
    "    max_depth=10,            # Limit depth of trees\n",
    "    min_samples_split=10,    # Minimum samples required to split a node\n",
    "    min_samples_leaf=5,      # Minimum samples required in a leaf node\n",
    "    max_features='sqrt',     # Use square root of total features at each split\n",
    "    class_weight='balanced', # Handle class imbalance\n",
    "    random_state=42          # For reproducibility\n",
    ")\n",
    "\n",
    "# Train the Random Forest model\n",
    "rf.fit(X_train, y_train)\n",
    "\n",
    "# Predict probabilities for the test set\n",
    "y_pred_proba_rf = rf.predict_proba(X_test)[:, 1]\n",
    "\n",
    "# Calculate AUC score\n",
    "auc_rf = roc_auc_score(y_test, y_pred_proba_rf)\n",
    "print(f\"Random Forest AUC: {auc_rf}\")"
   ]
  },
  {
   "cell_type": "markdown",
   "id": "71fe4070-f641-47d9-94ec-916f21ab2c51",
   "metadata": {},
   "source": [
    "In order to forecast the severity of accidents, the code trains a Random Forest Classifier and assesses its performance using the ROC AUC score. Several parameters are initialized for the RandomForestClassifier: The number of trees in the forest is specified by n_estimators=100, the minimum number of samples needed to split a node is defined by min_samples_split=10, the minimum number of samples needed in a leaf node is set by min_samples_leaf=5, and the maximum depth of each tree is limited by max_depth=10 to avoid overfitting. In order to address class imbalance, class_weight='balanced' modifies weights inversely to class frequencies, while max_features='sqrt' guarantees that the square root of the total features is taken into account at each split. rf.fit(X_train, y_train) is used to train the model, while rf.predict_proba(X_test)[:, 1] is used to determine the expected probability for the positive class. "
   ]
  },
  {
   "cell_type": "code",
   "execution_count": 35,
   "id": "628a485d-d8d9-40e6-aa9b-8ff05124f027",
   "metadata": {},
   "outputs": [
    {
     "name": "stderr",
     "output_type": "stream",
     "text": [
      "/opt/anaconda3/lib/python3.12/site-packages/xgboost/core.py:158: UserWarning: [13:44:33] WARNING: /Users/runner/work/xgboost/xgboost/src/learner.cc:740: \n",
      "Parameters: { \"use_label_encoder\" } are not used.\n",
      "\n",
      "  warnings.warn(smsg, UserWarning)\n"
     ]
    },
    {
     "name": "stdout",
     "output_type": "stream",
     "text": [
      "XGBoost AUC: 0.8346485915966583\n"
     ]
    }
   ],
   "source": [
    "# XGBoost\n",
    "xgb = XGBClassifier(random_state=42, use_label_encoder=False)\n",
    "xgb.fit(X_train, y_train)\n",
    "y_pred_proba_xgb = xgb.predict_proba(X_test)[:, 1]\n",
    "auc_xgb = roc_auc_score(y_test, y_pred_proba_xgb)\n",
    "print(f\"XGBoost AUC: {auc_xgb}\")"
   ]
  },
  {
   "cell_type": "markdown",
   "id": "87b2a52a-3816-44c0-9e9c-337e4f268f07",
   "metadata": {},
   "source": [
    "In order to forecast the severity of accidents, the code trains an XGBoost Classifier and assesses its performance using the ROC AUC score. To prevent needless warnings, the XGBClassifier is initialized with use_label_encoder=False to deactivate the use of the label encoder and random_state=42 for reproducibility. xgb.fit(X_train, y_train) is used to train the model using the unscaled training data. Following training, xgb.predict_proba(X_test)[:, 1] is used to determine the projected probabilities for the positive class. Next, using roc_auc_score(y_test, y_pred_proba_xgb), the ROC AUC score is computed and reported. The model's ability to discriminate between positive and negative classes is indicated by the AUC value; a higher number denotes greater predictive performance."
   ]
  },
  {
   "cell_type": "code",
   "execution_count": 37,
   "id": "1bbcd1f9-1a4e-42ea-b113-5a1635fa92c2",
   "metadata": {},
   "outputs": [
    {
     "data": {
      "image/png": "[encoded data removed]",
      "text/plain": [
       "<Figure size 800x600 with 1 Axes>"
      ]
     },
     "metadata": {},
     "output_type": "display_data"
    }
   ],
   "source": [
    "plt.figure(figsize=(8, 6))\n",
    "for model_name, y_pred_proba, auc in [\n",
    "    (\"Logistic Regression\", y_pred_proba_lr, auc_lr),\n",
    "    (\"Random Forest\", y_pred_proba_rf, auc_rf),\n",
    "    (\"XGBoost\", y_pred_proba_xgb, auc_xgb)\n",
    "]:\n",
    "    fpr, tpr, _ = roc_curve(y_test, y_pred_proba)\n",
    "    plt.plot(fpr, tpr, label=f\"{model_name} (AUC = {auc:.3f})\")\n",
    "\n",
    "plt.plot([0, 1], [0, 1], \"r--\", label=\"No Skill\")\n",
    "plt.xlabel(\"False Positive Rate\")\n",
    "plt.ylabel(\"True Positive Rate\")\n",
    "plt.title(\"ROC Curve\")\n",
    "plt.legend(loc=\"lower right\")\n",
    "plt.grid()\n",
    "plt.show()"
   ]
  },
  {
   "cell_type": "markdown",
   "id": "4d1ef45a-2c55-4351-ac3c-db3f019b9e1a",
   "metadata": {},
   "source": [
    "The ROC curve evaluates how well the Random Forest, XGBoost, and Logistic Regression models predict the severity of accidents. With an AUC of 0.600, the logistic regression model performs moderately well—slightly better than random guessing. With an AUC of 0.908, the Random Forest model performs better than the others and demonstrates exceptional predictive power. With a remarkable performance and an AUC of 0.835, the XGBoost model comes in second. The \"No Skill\" baseline, where predictions are made at random, is shown by the red dashed line. These findings suggest that, in comparison to Logistic Regression, ensemble models such as Random Forest and XGBoost are more appropriate for this classification task."
   ]
  },
  {
   "cell_type": "code",
   "execution_count": 39,
   "id": "c2bc98e8-bfa7-4de9-beac-72a7679b4a1c",
   "metadata": {},
   "outputs": [
    {
     "name": "stdout",
     "output_type": "stream",
     "text": [
      "\n",
      "Classification Report for XGBoost:\n",
      "              precision    recall  f1-score   support\n",
      "\n",
      "           0       0.75      0.71      0.73   1244523\n",
      "           1       0.73      0.77      0.75   1245216\n",
      "\n",
      "    accuracy                           0.74   2489739\n",
      "   macro avg       0.74      0.74      0.74   2489739\n",
      "weighted avg       0.74      0.74      0.74   2489739\n",
      "\n"
     ]
    }
   ],
   "source": [
    " ## Classification Report for XGBoost\n",
    "print(\"\\nClassification Report for XGBoost:\")\n",
    "y_pred_xgb = xgb.predict(X_test)\n",
    "print(classification_report(y_test, y_pred_xgb))"
   ]
  },
  {
   "cell_type": "code",
   "execution_count": 40,
   "id": "106fcd04-3686-4d8b-9e76-6a98fce9e9e2",
   "metadata": {},
   "outputs": [
    {
     "name": "stdout",
     "output_type": "stream",
     "text": [
      "Random Forest model saved to /Users/arunajithesh/Desktop/SJSU/sem-2/model/random_forest_model_USAccident.pkl\n"
     ]
    }
   ],
   "source": [
    "import joblib\n",
    "\n",
    "# Save the trained Random Forest model to a file\n",
    "model_save_path = \"/Users/arunajithesh/Desktop/SJSU/sem-2/model/random_forest_model_USAccident.pkl\"\n",
    "joblib.dump(rf, model_save_path)\n",
    "print(f\"Random Forest model saved to {model_save_path}\")"
   ]
  },
  {
   "cell_type": "code",
   "execution_count": 41,
   "id": "6da835f2-b868-47f9-bec3-d0067eae033a",
   "metadata": {},
   "outputs": [
    {
     "name": "stdout",
     "output_type": "stream",
     "text": [
      "Requirement already satisfied: flask in /opt/anaconda3/lib/python3.12/site-packages (3.0.3)\n",
      "Requirement already satisfied: joblib in /opt/anaconda3/lib/python3.12/site-packages (1.4.2)\n",
      "Requirement already satisfied: scikit-learn in /opt/anaconda3/lib/python3.12/site-packages (1.4.2)\n",
      "Requirement already satisfied: Werkzeug>=3.0.0 in /opt/anaconda3/lib/python3.12/site-packages (from flask) (3.0.3)\n",
      "Requirement already satisfied: Jinja2>=3.1.2 in /opt/anaconda3/lib/python3.12/site-packages (from flask) (3.1.4)\n",
      "Requirement already satisfied: itsdangerous>=2.1.2 in /opt/anaconda3/lib/python3.12/site-packages (from flask) (2.2.0)\n",
      "Requirement already satisfied: click>=8.1.3 in /opt/anaconda3/lib/python3.12/site-packages (from flask) (8.1.7)\n",
      "Requirement already satisfied: blinker>=1.6.2 in /opt/anaconda3/lib/python3.12/site-packages (from flask) (1.6.2)\n",
      "Requirement already satisfied: numpy>=1.19.5 in /opt/anaconda3/lib/python3.12/site-packages (from scikit-learn) (1.26.4)\n",
      "Requirement already satisfied: scipy>=1.6.0 in /opt/anaconda3/lib/python3.12/site-packages (from scikit-learn) (1.13.1)\n",
      "Requirement already satisfied: threadpoolctl>=2.0.0 in /opt/anaconda3/lib/python3.12/site-packages (from scikit-learn) (2.2.0)\n",
      "Requirement already satisfied: MarkupSafe>=2.0 in /opt/anaconda3/lib/python3.12/site-packages (from Jinja2>=3.1.2->flask) (2.1.3)\n"
     ]
    }
   ],
   "source": [
    "!pip install flask joblib scikit-learn\n"
   ]
  },
  {
   "cell_type": "code",
   "execution_count": 42,
   "id": "fb8f1a31-fc26-4f30-82f3-5591cfc292da",
   "metadata": {},
   "outputs": [
    {
     "name": "stdout",
     "output_type": "stream",
     "text": [
      "Model saved successfully.\n"
     ]
    }
   ],
   "source": [
    "import joblib\n",
    "\n",
    "# Save the trained Random Forest model\n",
    "joblib.dump(rf, \"/Users/arunajithesh/Desktop/SJSU/sem-2/model/random_forest_model_USAccident.joblib\")\n",
    "print(\"Model saved successfully.\")\n"
   ]
  },
  {
   "cell_type": "code",
   "execution_count": null,
   "id": "8b73c083-aa50-4e4b-8553-1000f462f61b",
   "metadata": {},
   "outputs": [],
   "source": []
  }
 ],
 "metadata": {
  "kernelspec": {
   "display_name": "Python 3 (ipykernel)",
   "language": "python",
   "name": "python3"
  },
  "language_info": {
   "codemirror_mode": {
    "name": "ipython",
    "version": 3
   },
   "file_extension": ".py",
   "mimetype": "text/x-python",
   "name": "python",
   "nbconvert_exporter": "python",
   "pygments_lexer": "ipython3",
   "version": "3.12.4"
  }
 },
 "nbformat": 4,
 "nbformat_minor": 5
}
